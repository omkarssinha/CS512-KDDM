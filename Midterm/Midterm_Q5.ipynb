{
 "cells": [
  {
   "cell_type": "code",
   "execution_count": 1,
   "id": "64aad6c4",
   "metadata": {},
   "outputs": [],
   "source": [
    "#  University     : Stevens Institute of Technology\n",
    "#  Project        : Midterm_Q5\n",
    "#  Purpose        : Question 5\n",
    "#  First Name     : Omkar\n",
    "#  Last Name      : Sinha\n",
    "#  CWId           : 10468312\n",
    "#  Date           : 11/02/2021\n",
    "\n",
    "#Import Packages\n",
    "\n",
    "import csv\n",
    "from sklearn.naive_bayes import GaussianNB, CategoricalNB, MultinomialNB\n",
    "from sklearn.model_selection import train_test_split\n",
    "from sklearn import metrics"
   ]
  },
  {
   "cell_type": "code",
   "execution_count": 3,
   "id": "ec973529",
   "metadata": {},
   "outputs": [],
   "source": [
    "#Upload Data\n",
    "\n",
    "with open('C:/Users/Omkar_PC/Downloads/COVID19_v4.csv', newline='') as csvfile:\n",
    "    next(csvfile)\n",
    "    reader = csv.reader(csvfile)\n",
    "    age, exposure, marital, cases, months, Infected = [], [], [], [], [], []\n",
    "\n",
    "    for row in reader:\n",
    "        \n",
    "        try:\n",
    "            age.append(float(row[1]))\n",
    "            exposure.append(float(row[2]))\n",
    "            marital.append(row[3])\n",
    "            cases.append(float(row[4]))\n",
    "            months.append(float(row[5]))\n",
    "            Infected.append(row[-1])\n",
    "        except:\n",
    "            pass"
   ]
  },
  {
   "cell_type": "code",
   "execution_count": 4,
   "id": "47bcbdda",
   "metadata": {},
   "outputs": [],
   "source": [
    "#Discretize the “MonthAtHospital” in “less than 6 months” and “6 or more months”\n",
    "\n",
    "months_dis = []\n",
    "for month in months:\n",
    "    if month < 6: \n",
    "        months_dis.append(0)\n",
    "    else: \n",
    "        months_dis.append(1)\n",
    "\n",
    "#Discretize the age in “less than 35”, “35 to 50” and “51 or over”\n",
    "\n",
    "age_dis = []\n",
    "for a in age: \n",
    "    if a < 35: \n",
    "        age_dis.append(0)\n",
    "    elif a >= 35 and a <= 50: \n",
    "        age_dis.append(1)\n",
    "    else: \n",
    "        age_dis.append(2)\n",
    "\n",
    "#Discretize marital\n",
    "\n",
    "marital_dis = []\n",
    "for marriage in marital: \n",
    "    if marriage == \"Single\": \n",
    "        marital_dis.append(0)\n",
    "    elif marriage == \"Married\":\n",
    "        marital_dis.append(1)\n",
    "    else:\n",
    "        marital_dis.append(2)"
   ]
  },
  {
   "cell_type": "code",
   "execution_count": 5,
   "id": "493fa4c4",
   "metadata": {},
   "outputs": [
    {
     "name": "stdout",
     "output_type": "stream",
     "text": [
      "Accuracy (Categorical): 0.7804878048780488\n",
      "Accuracy (Gaussian): 0.8048780487804879\n",
      "Accuracy (Multinomial): 0.8048780487804879\n"
     ]
    }
   ],
   "source": [
    "#Combine Attributes\n",
    "\n",
    "attributes = [] \n",
    "for i in range(len(Infected)): \n",
    "    attributes.append(\n",
    "        [age_dis[i], exposure[i], marital_dis[i], cases[i], months_dis[i]])\n",
    "\n",
    "#Split data into Training and Test\n",
    "\n",
    "X_train, X_test, y_train, y_test = train_test_split(\n",
    "    attributes, Infected, test_size=0.30)\n",
    "\n",
    "#Perform Naive Bayes using CategoricalNB\n",
    "\n",
    "nb = CategoricalNB()\n",
    "nb.fit(X_train, y_train)\n",
    "\n",
    "y_pred = nb.predict(X_test)\n",
    "\n",
    "#Evaluate Model\n",
    "\n",
    "print(\"Accuracy (Categorical):\", metrics.accuracy_score(y_test, y_pred))\n",
    "\n",
    "#Perform Naive Bayes using GaussianNB\n",
    "\n",
    "gnb = GaussianNB()\n",
    "gnb.fit(X_train, y_train)\n",
    "\n",
    "y_pred = gnb.predict(X_test)\n",
    "\n",
    "#Evaluate Model\n",
    "\n",
    "print(\"Accuracy (Gaussian):\", metrics.accuracy_score(y_test, y_pred))\n",
    "\n",
    "#Perform Naive Bayes using MultinomialNB\n",
    "\n",
    "mnb = MultinomialNB()\n",
    "mnb.fit(X_train, y_train)\n",
    "\n",
    "y_pred = gnb.predict(X_test)\n",
    "\n",
    "#Evaluate Model\n",
    "\n",
    "print(\"Accuracy (Multinomial):\", metrics.accuracy_score(y_test, y_pred))"
   ]
  },
  {
   "cell_type": "code",
   "execution_count": null,
   "id": "c07a9969",
   "metadata": {},
   "outputs": [],
   "source": []
  }
 ],
 "metadata": {
  "kernelspec": {
   "display_name": "Python 3",
   "language": "python",
   "name": "python3"
  },
  "language_info": {
   "codemirror_mode": {
    "name": "ipython",
    "version": 3
   },
   "file_extension": ".py",
   "mimetype": "text/x-python",
   "name": "python",
   "nbconvert_exporter": "python",
   "pygments_lexer": "ipython3",
   "version": "3.9.4"
  }
 },
 "nbformat": 4,
 "nbformat_minor": 5
}
